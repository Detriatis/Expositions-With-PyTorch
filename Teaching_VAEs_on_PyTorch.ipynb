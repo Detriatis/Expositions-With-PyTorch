{
  "cells": [
    {
      "cell_type": "markdown",
      "metadata": {
        "id": "fOZBSRbG_ziQ"
      },
      "source": [
        "#Preliminaries"
      ]
    },
    {
      "cell_type": "markdown",
      "metadata": {
        "id": "EYxvhB-1ZAFz"
      },
      "source": [
        "References for Details on Conditional Distributions & KL-Divergence (might be helpful)\n",
        "\n",
        "    https://www.probabilitycourse.com/chapter1/1_4_0_conditional_probability.php\n",
        "\n",
        "    https://home.ttic.edu/~madhurt/courses/infotheory2021/\n",
        "\n",
        "\n",
        "Miscellaneous References (might be helpful)\n",
        "\n",
        "    https://github.com/Jackson-Kang/Pytorch-VAE-tutorial/blob/master/01_Variational_AutoEncoder.ipynb\n",
        "\n",
        "    https://slazebni.cs.illinois.edu/spring17/lec12_vae.pdf"
      ]
    },
    {
      "cell_type": "code",
      "execution_count": 1,
      "metadata": {
        "id": "UtpC-4IdAhY3"
      },
      "outputs": [],
      "source": [
        "import numpy as np\n",
        "import matplotlib.pyplot as plt"
      ]
    },
    {
      "cell_type": "code",
      "execution_count": 2,
      "metadata": {
        "id": "stjxdc7YAhY3",
        "outputId": "23b05239-de4e-4d03-ae8e-e25e3f039248",
        "colab": {
          "base_uri": "https://localhost:8080/",
          "height": 447
        }
      },
      "outputs": [
        {
          "output_type": "execute_result",
          "data": {
            "text/plain": [
              "[<matplotlib.lines.Line2D at 0x790f8f38d090>]"
            ]
          },
          "metadata": {},
          "execution_count": 2
        },
        {
          "output_type": "display_data",
          "data": {
            "text/plain": [
              "<Figure size 640x480 with 1 Axes>"
            ],
            "image/png": "[encoded data removed]"
          },
          "metadata": {}
        }
      ],
      "source": [
        "# Reference 1 problem solving\n",
        "p=1\n",
        "a=95\n",
        "b=100\n",
        "for i in range(3):\n",
        "    a = a - i\n",
        "    b = b - i\n",
        "    p *= a / b\n",
        "\n",
        "\n",
        "# Reference 2 concavity\n",
        "domain = np.arange(-101, 101)\n",
        "def sudo_function(X):\n",
        "    return np.square(X) + 2*X + 0\n",
        "def sudo_func_dx(X):\n",
        "    return 2*X + 2\n",
        "def sudo_func_dx_dx(X):\n",
        "    return np.full(shape=X.shape, fill_value=2)\n",
        "\n",
        "Y = sudo_function(domain)\n",
        "Y_dx = sudo_func_dx(domain)\n",
        "Y_dx_dx = sudo_func_dx_dx(domain)\n",
        "# If second order derivative is positive for all x in domain then the function is concave, ie\n",
        "# the change in gradient is positive\n",
        "plt.plot(domain, Y_dx_dx)"
      ]
    },
    {
      "cell_type": "markdown",
      "metadata": {
        "id": "8OGP8jDnAWO-"
      },
      "source": [
        "\n",
        "\n",
        "The code was originally written on Colab and run on its default GPUs.\n",
        "\n",
        "If you are running it on some terminal where maybe torchvision isn't installed then execute the following lines first,\n",
        "\n",
        "```\n",
        "source /etc/anaconda3/bin/activate\n",
        "pip install torchvision\n",
        "anaconda-navigator\n",
        "\n",
        "```\n",
        "\n",
        "The above will install torchvision and open the navigator, from which you can select Jupyter and load this file into it - and have fun :)\n",
        "\n"
      ]
    },
    {
      "cell_type": "markdown",
      "metadata": {
        "id": "t6U3Xeo_PjVP"
      },
      "source": [
        "# Introduction to VAE"
      ]
    },
    {
      "cell_type": "markdown",
      "metadata": {
        "id": "HquAT91SNrit"
      },
      "source": [
        "\n",
        "\n",
        "Suppose we have two random variables $\\vec{x}$ and $\\vec{z}$ (hence there is a joint distribution over them) and consider being given two conditional distributions $q(\\vec{z}|\\vec{x})$ and $p(\\vec{z}|\\vec{x})$ both of which are trying to approximate the true conditional distribution of $\\vec{z}$ given $\\vec{x}$. Then we can compute the KL divergence between the two to try to measure the discrepancy between these two descriptions. Towards that we observe the following analysis of this measure of discrepancy (we do an abuse of notation here to use $\\vec{z}$ for denoting two different things - in the LHS its labelling the distributions and in the RHS its indexing all possible samples of it),\n",
        "\n",
        "\\begin{align}\n",
        "&{\\rm KL}(q(\\vec{z}|\\vec{x})||p(\\vec{z}|\\vec{x}))\\\\\n",
        "&= \\sum_{\\vec{z}} q(\\vec{z}|\\vec{x}) \\log \\frac{q(\\vec{z}|\\vec{x})}{p(\\vec{z}|\\vec{x})}\\\\\n",
        "&= -\\sum_{\\vec{z}} q(\\vec{z}|\\vec{x}) \\log \\frac{p(\\vec{z}|\\vec{x})}{q(\\vec{z}|\\vec{x})}\\\\\n",
        "&= -\\sum_{\\vec{z}} q(\\vec{z}|\\vec{x})  \\left[\\log p(\\vec{z}|\\vec{x}) - \\log q(\\vec{z}|\\vec{x}) \\right]\\\\\n",
        "&= -\\sum_{\\vec{z}} q(\\vec{z}|\\vec{x}) \\left[\\log \\frac{p(\\vec{x}|\\vec{z})p(\\vec{z})}{p(\\vec{x})} - \\log q(\\vec{z}|\\vec{x}) \\right]\\\\\n",
        "&= -\\sum_{\\vec{z}} q(\\vec{z}|\\vec{x}) \\left[\\log p(\\vec{x}|\\vec{z}) + \\log p(\\vec{z}) - \\log p(\\vec{x}) - \\log q(\\vec{z}|\\vec{x}) \\right]\\\\\n",
        "&= \\sum_{\\vec{z}} q(\\vec{z}|\\vec{x}) \\left[-\\log p(\\vec{x}|\\vec{z}) - \\log p(\\vec{z}) + \\log p(\\vec{x}) + \\log q(\\vec{z}|\\vec{x}) \\right]\n",
        "\\end{align}\n",
        "\n",
        "The above can be written as,  \n",
        "\n",
        "\\begin{align}\n",
        "\\log p(\\vec{x}) = &{\\rm KL}(q(\\vec{z}|\\vec{x})||p(\\vec{z}|\\vec{x})) - \\sum_{\\vec{z}} q(\\vec{z}|\\vec{x}) \\left[-\\log p(\\vec{x}|\\vec{z}) - \\log p(\\vec{z}) + \\log q(\\vec{z}|\\vec{x}) \\right]\\\\\n",
        "= &{\\rm KL}(q(\\vec{z}|\\vec{x})||p(\\vec{z}|\\vec{x})) + \\underbrace{\\left[ \\mathbb{E}_{q} \\log p(\\vec{x}|\\vec{z})  - \\mathbb{E}_{q}  \\log \\frac{q(\\vec{z}|\\vec{x})}{p(\\vec{z})} \\right]}_{\\bf ELBO = -V.F.E}\\\\\n",
        "\\end{align}\n",
        "\n",
        ">The above argument was done assuming that the $\\sum_{\\vec{z}}$ makes sense and that necessarily needs a finite number of possible values for the random variable $\\vec{z}$. But we shall skip re-writing the above proof for continuous random variables - as needed in this experiment - and shall just assert without proof the veracity of the last equality obtained.\n",
        "\n",
        "The second term on the LHS is called the \"Evidence Lower Bound (ELBO)\" -- since because of the non-negativity of the KL (the so-called \"variational gap\") we can write,\n",
        "\n",
        "$$ {\\rm ELBO} \\leq \\log p(\\vec{x})$$\n",
        "\n",
        "\n",
        "Since $\\log p(\\vec{x})$ is a constant, and we want to minimize the ${\\rm KL}$ term, we can achieve the same by maximizing the ELBO.\n",
        "Which is the same as the minimization of its negative i.e the optimization problem that we actually code for is,\n",
        "\n",
        "\n",
        "$$\n",
        "\\min \\Bigg ( \\underbrace{\\underbrace{- \\color{blue}{\\mathbb{E}_{q} \\log p(\\vec{x}|\\vec{z})}}_{{\\rm ``Reconstruction ~Loss\"}}  + \\color{red}{ {\\rm KL} (  q(\\vec{z}|\\vec{x}) ||  p(\\vec{z})) }}_{``\\textbf{Variational Free Energy (V.F.E)}\"} \\Bigg )\n",
        "$$\n",
        "\n",
        "\n",
        "Thus by minimizing the VFE we bring the $p(\\vec{z}|\\vec{x})$ to be close to the $q(\\vec{z}|\\vec{x})$ -- thus the process of minimizing the V.F.E. can be seen as an attempt to bring close two different parameterizations of the conditional distribution of $\\vec{z}$ given $\\vec{x}$. ***We shall see that the two nets to be eventually used essentially play this role of giving these two parameterizations.***\n",
        "\n",
        "**BUT note that its $p(\\vec{x}|\\vec{z})$ that occurs in the optimization objective** -- and hence at the end of the training a good $p(\\vec{x}|\\vec{z})$ will be read off and that in turn reveals the ``unknown\" distribution $p(\\vec{x})$ via the formula $p(\\vec{x}) = \\int p(\\vec{x}|\\vec{z}) p(\\vec{z}) d\\vec{z}$. **We are very crucially assuming that the last integral here is doable which is what will motivate us to choose simple distributions for $\\vec{z}$.**"
      ]
    },
    {
      "cell_type": "markdown",
      "metadata": {
        "id": "xf7LVYpMh0V-"
      },
      "source": [
        "\n",
        "##Objective\n",
        "\n",
        "> Given samples $\\vec{x} \\sim p(\\vec{x})$ we want to uncover the function $p(\\vec{x})$ by minimizing the V.F.E over the three distributions that occur in it - which we recall are given in terms of,\n",
        "\n",
        "> (a) $p(\\vec{x} \\vert \\vec{z})$, the \"posterior distribution\" w.r.t $\\vec{z}$ the ``fictitious\" latent r.v\n",
        "\n",
        "> (b) $q(\\vec{z} \\vert \\vec{x})$ and\n",
        "\n",
        "> (c) $p(\\vec{z})$ the distribution of the \"latent variable\"\n",
        "\n",
        "Setting the above objective is essentially tantamount of assuming that the data $\\vec{x}$ are indeed samples of a distribution $p(\\vec{x})$ which can be obtained as the marginal of a ***\"generative model\"*** which is a joint distirbution $p(\\vec{x},\\vec{z})$ over the data $\\vec{x}$ and the latent variable $\\vec{z}$. This assumption of the factorization \"$p(\\vec{z},\\vec{x}) = p(\\vec{x} \\vert \\vec{z}) \\cdot p(\\vec{z})$\" of this imagined joint distribution over the data and a fictitious latent variable is a key insight that gets the entire field started.\n",
        "\n",
        "\n",
        "Towards achieving the aforesaid objective we recall the following fact about Gaussian distribution and note two key ideas.\n",
        "\n",
        "---\n",
        "FACTS :  \n",
        "\n",
        "- Given a $d-$dimensional vector $\\vec{\\mu}$ and a $d-$dimensional invertible symmetric matrix $\\Sigma$, We use the following notation to denote the multi-variable Gaussian distribution's p.d.f.,\n",
        "\n",
        "$${\\cal N}(\\vec{\\mu},\\Sigma) = \\frac{1}{\\sqrt{(2\\pi)^d {\\rm det}(\\Sigma)}} e^{-\\frac{1}{2} (\\vec{x}-\\vec{\\mu})^\\top \\Sigma^{-1} (\\vec{x}-\\vec{\\mu})}  $$\n",
        "\n",
        "- If $\\vec{X} \\sim {\\cal N}(\\vec{\\mu},\\Sigma)$ as above, then it is equivalent to assuming that $\\vec{a}^\\top \\vec{X}$ is a one dimensional Gaussian distributed random variable for every vector $\\vec{a}$ in $d-$dimensions. This gives a more intutive picture of what multivariate Gaussian distributions look like.\n",
        "\n",
        "- Recall that if $\\vec{X} \\sim {\\cal N}(\\vec{\\mu},\\Sigma)$ then, $a\\vec{X} + \\vec{b} \\sim {\\cal N}(a\\vec{\\mu} + \\vec{b},a^2\\Sigma)$\n",
        "\n",
        "  In particular, $\\vec{a}{\\cal N}(0,I) + \\vec{b} \\sim  {\\cal N}( \\vec{b},{\\rm diag}(a^2))$\n",
        "\n",
        "  -- this particular case shall be needed very soon!\n",
        "\n",
        "\n",
        "- Recall ([reference ](https://mr-easy.github.io/2020-04-16-kl-divergence-between-2-gaussian-distributions/)) that we have an expression for exact KL diverergence between two Gaussians in the same dimension. If we have two random variables in $k$ dimensions, $f_i \\sim {\\cal N}(\\vec{\\mu_i},\\Sigma_i)$ for $i=1,2$ then we have,\n",
        "\n",
        "$${\\rm KL}(f_1 || f_2) = \\frac{1}{2} \\cdot \\left [-k + (\\vec{\\mu_1} - \\vec{\\mu_2})^\\top \\Sigma_2^{-1} (\\vec{\\mu_1} - \\vec{\\mu_2}) +  \\log \\frac{\\det (\\Sigma_2)}{\\det (\\Sigma_1)} + {\\rm Tr} (\\Sigma_2^{-1}\\Sigma_1) \\right ]$$\n",
        "\n",
        "$$\\text{And in particular,}$$\n",
        "\n",
        "$${\\rm KL}({\\cal N}(\\vec{\\mu},\\Sigma) || {\\cal N}(0,I) ) =  \\frac{1}{2} \\cdot \\left [-k + \\Vert{\\vec{\\mu}}\\Vert^2 + {\\rm Tr} (\\Sigma) - \\log {\\det (\\Sigma)} \\right ] $$\n",
        "\n",
        "\n",
        "\n",
        "\n",
        "---"
      ]
    },
    {
      "cell_type": "markdown",
      "metadata": {
        "id": "Jf8_AhnBRPR7"
      },
      "source": [
        "##Solution Ideas\n",
        "\n",
        "\n",
        "- The **first key idea** will be exploit the above identity and to model $p(z), p(x \\vert z)$ and $q(z | x)$ as Gaussian distributions.\n",
        "\n",
        "\n",
        "- The **second key idea**, is that we will try to make the Gaussian distribution $q(z |x)$ as expressive as possible by using a neural net (the \"Encoder'') to represent its mean and variance and we will have a second neural net (the \"Decoder\") to represent the mean of $p(x \\vert z)$.\n",
        "\n",
        "In the next subsection we define these two nets.  "
      ]
    },
    {
      "cell_type": "markdown",
      "metadata": {
        "id": "Y4oV3JYdaDLs"
      },
      "source": [
        "\n",
        "##Defining The Nets\n",
        "\n",
        "Assuming that $x \\in \\mathbb{R}^{\\rm image-dimension}$, we *choose* an appropriate value of ${\\rm latent-dimension}$ s.t $z \\in \\mathbb{R}^{\\rm latent-dimension}$. Then the needed pair of nets can be denoted as,  \n",
        "    \n",
        "\n",
        "$$ {\\rm Encoder}_{\\Phi} : \\mathbb{R}^{\\rm image-dimension} \\rightarrow \\mathbb{R}^{\\rm latent-dimension} \\times \\mathbb{R}^{\\rm latent-dimension} $$\n",
        "\n",
        "$$ {\\rm Decoder}_{\\Theta} : \\mathbb{R}^{\\rm latent-dimension} \\rightarrow \\mathbb{R}^{\\rm image-dimension} $$\n",
        "      \n",
        "  In above $\\Phi$ and $\\Theta$ are to denote the set of all trainable weights in the Encoder and the Decoder respectively. In the particular implementation that will demonstrate here we shall have both these nets be of depth $3$ (and hence each of them will have $3$ affine transforms). The first two activation layers in each would be ${\\rm hidden-dimension}$ sized ${\\rm Leaky-ReLU}$ activations. The Encoder has 2 layers of activation while the Decoder will be using a third layer of sigmoid activations at the output."
      ]
    },
    {
      "cell_type": "markdown",
      "metadata": {
        "id": "a5uSufJfTpPk"
      },
      "source": [
        "##Parameterizing The Distributions\n",
        "\n",
        "Given any data sample $\\vec{x}$, we define the mean $\\vec{\\mu}$ and the diagonal variances $\\vec{\\sigma}$ of the assumed Gaussian, $q(\\vec{z}|\\vec{x})$ as,\n",
        "\n",
        "- $q(\\vec{z} |\\vec{x}) = q_{\\Phi}(\\vec{z} |\\vec{x}) :=  {\\cal N}(f({\\rm Encoder}_{\\Phi} (\\vec{x})))$\n",
        "\n",
        "Where $f$ is a transformation -- that we shall soon specify -- which we shall do to the outputs of the ${\\rm Encoder}_\\Phi$ to obtain the mean and the variance of the Normal distribution of $q(\\vec{z} | \\vec{x})$.\n",
        "\n",
        "Given any sample $\\vec{z}$ from $q_{\\Phi}(\\vec{z} |\\vec{x})$, we let the $p$ be more general and only assume that,\n",
        "\n",
        "- $p(\\vec{x} |\\vec{z}) = p_{\\Theta}(\\vec{x} |\\vec{z}) := \\mathcal{N}({\\rm Decoder}_{\\Theta}(\\vec{z}), {\\rm diag(all{-}ones{-}vector)})$\n",
        "\n",
        "We assume that the distribution of the latent variable is just the standard normal,\n",
        "\n",
        "- $p(\\vec{z}) = {\\cal N}(0,I)$\n",
        "\n"
      ]
    },
    {
      "cell_type": "markdown",
      "metadata": {
        "id": "_Rr4oY97gxiM"
      },
      "source": [
        "##The V.A.E.\n",
        "\n",
        "If we can sample $\\vec{z_s} \\sim q_{\\Phi}(\\vec{z}|\\vec{x}) ~\\forall s=1,\\ldots,S$  then the  minimization objective -- the \"**Variational Free Energy (V.F.E.)**\" is replaced by its empirical (Monte Carlo) estimate,\n",
        "\n",
        "\\begin{align*}\n",
        "{\\rm Empirical ~V.F.E.} :=&- \\color{blue}{\\tilde{\\mathbb{E}}_{q_{\\Phi}} \\log p_{\\Theta}(\\vec{x}|\\vec{z})}  + \\color{red}{ \\tilde{\\mathbb{E}}_{q_{\\Phi}} \\log \\left (  \\frac{q_\\Phi(\\vec{z}|\\vec{x})}{p(\\vec{z})} \\right ) }\\\\\n",
        "= & \\frac{1}{S} \\sum_{s=1}^S \\left \\{ \\underbrace{\\color{blue}{- \\log p_{\\Theta}(\\vec{x}|\\vec{z_s})}}_{\\rm Reconstuction Loss} + \\underbrace{\\color{red} { \\log q_\\Phi(\\vec{z_s}|\\vec{x}) - \\log p(\\vec{z_s})}}_{\\rm KL-Divergence}  \\right \\}\\\\\n",
        "\\end{align*}\n",
        "\n",
        "\n",
        "\n",
        "We note that, ``Variational Autoencoder (VAE)\" is not a single architecture but a system which uses 2 neural nets for implementing the plan as said above for learning an unknown marginal distribution of the data $p(x)$ by approximating it as $p_{\\Theta} (\\vec{x}) := \\int p_{\\Theta} (\\vec{x} | \\vec{z}) p(\\vec{z})$."
      ]
    },
    {
      "cell_type": "markdown",
      "metadata": {
        "id": "hxZ-E3j8PbJ-"
      },
      "source": [
        "# Packages"
      ]
    },
    {
      "cell_type": "code",
      "execution_count": 3,
      "metadata": {
        "colab": {
          "base_uri": "https://localhost:8080/"
        },
        "id": "LSCHKEnHD162",
        "outputId": "23eb6282-f33a-459a-c329-bc158c32598b"
      },
      "outputs": [
        {
          "output_type": "stream",
          "name": "stdout",
          "text": [
            "Tue Dec 10 14:39:58 2024       \n",
            "+---------------------------------------------------------------------------------------+\n",
            "| NVIDIA-SMI 535.104.05             Driver Version: 535.104.05   CUDA Version: 12.2     |\n",
            "|-----------------------------------------+----------------------+----------------------+\n",
            "| GPU  Name                 Persistence-M | Bus-Id        Disp.A | Volatile Uncorr. ECC |\n",
            "| Fan  Temp   Perf          Pwr:Usage/Cap |         Memory-Usage | GPU-Util  Compute M. |\n",
            "|                                         |                      |               MIG M. |\n",
            "|=========================================+======================+======================|\n",
            "|   0  Tesla T4                       Off | 00000000:00:04.0 Off |                    0 |\n",
            "| N/A   53C    P8              10W /  70W |      0MiB / 15360MiB |      0%      Default |\n",
            "|                                         |                      |                  N/A |\n",
            "+-----------------------------------------+----------------------+----------------------+\n",
            "                                                                                         \n",
            "+---------------------------------------------------------------------------------------+\n",
            "| Processes:                                                                            |\n",
            "|  GPU   GI   CI        PID   Type   Process name                            GPU Memory |\n",
            "|        ID   ID                                                             Usage      |\n",
            "|=======================================================================================|\n",
            "|  No running processes found                                                           |\n",
            "+---------------------------------------------------------------------------------------+\n",
            "Your runtime has 13.6 gigabytes of available RAM\n",
            "\n",
            "Not using a high-RAM runtime\n"
          ]
        }
      ],
      "source": [
        "gpu_info = !nvidia-smi\n",
        "gpu_info = '\\n'.join(gpu_info)\n",
        "if gpu_info.find('failed') >= 0:\n",
        "  print('Not connected to a GPU')\n",
        "else:\n",
        "  print(gpu_info)\n",
        "\n",
        "from psutil import virtual_memory\n",
        "ram_gb = virtual_memory().total / 1e9\n",
        "print('Your runtime has {:.1f} gigabytes of available RAM\\n'.format(ram_gb))\n",
        "\n",
        "if ram_gb < 20:\n",
        "  print('Not using a high-RAM runtime')\n",
        "else:\n",
        "  print('You are using a high-RAM runtime!')"
      ]
    },
    {
      "cell_type": "code",
      "execution_count": 4,
      "metadata": {
        "id": "M9GK0NbeTlNd"
      },
      "outputs": [],
      "source": [
        "import torch\n",
        "import torch.nn as nn\n",
        "#from torchinfosummary import summary (sometimes this works)\n",
        "from torchsummary import summary\n",
        "from torch.utils.data import random_split\n",
        "\n",
        "import numpy as np\n",
        "import torchvision\n",
        "from tqdm import tqdm\n",
        "from torchvision.utils import save_image, make_grid\n",
        "\n",
        "import matplotlib.pyplot as plt\n",
        "plt.style.use('ggplot')"
      ]
    },
    {
      "cell_type": "markdown",
      "metadata": {
        "id": "FomJElr6gAwB"
      },
      "source": [
        "#Model and Optimization Hyperparameters"
      ]
    },
    {
      "cell_type": "markdown",
      "metadata": {
        "id": "VZlzafzGJ6_a"
      },
      "source": [
        "You can speed-up this code almost 3x if you run it on Google Colab\n",
        "\n",
        "--  and change settings as, Runtime ->Change runtime type ->Hardware Accelerator -> GPU\n",
        "\n",
        "-- and then set cuda=True below."
      ]
    },
    {
      "cell_type": "code",
      "execution_count": 16,
      "metadata": {
        "id": "HfK6KzjwfygZ"
      },
      "outputs": [],
      "source": [
        "dataset_path = '~/datasets'\n",
        "\n",
        "cuda = True\n",
        "DEVICE = torch.device(\"cuda\" if cuda else \"cpu\")\n",
        "\n",
        "x_dim  = 784\n",
        "#x_dim will be used as the value for the input_dim and output_dim below and it is the same as the image-dimension in the text above\n",
        "hidden_dim = 1024\n",
        "latent_dim = 8\n",
        "\n",
        "lr = 1e-3\n",
        "epochs = 20\n",
        "#use number of epoch = something which is 1 + a multiple of 5\n",
        "# - that keeps it consistent with the fact that the population risk is computed every 5 epochs.\n",
        "train_size = 60000\n",
        "#also try 60000\n",
        "validation_size = 60000 - train_size\n",
        "batch_size = 10**2\n",
        "test_batch_size = 10**4"
      ]
    },
    {
      "cell_type": "markdown",
      "metadata": {
        "id": "UP89FRN6JOgx"
      },
      "source": [
        "Check versions!"
      ]
    },
    {
      "cell_type": "code",
      "execution_count": 17,
      "metadata": {
        "colab": {
          "base_uri": "https://localhost:8080/"
        },
        "id": "yQ4zApvQJQfp",
        "outputId": "e3973c09-d116-4631-95f0-396232599f8b"
      },
      "outputs": [
        {
          "output_type": "stream",
          "name": "stdout",
          "text": [
            "2.5.1+cu121\n",
            "1.26.4\n",
            "0.20.1+cu121\n"
          ]
        }
      ],
      "source": [
        "print(torch.__version__)\n",
        "print(np.__version__)\n",
        "print(torchvision.__version__)"
      ]
    },
    {
      "cell_type": "markdown",
      "metadata": {
        "id": "CVKE4YRpgrFo"
      },
      "source": [
        "#The Dataset"
      ]
    },
    {
      "cell_type": "code",
      "execution_count": 18,
      "metadata": {
        "id": "MQggpVDmgn_C"
      },
      "outputs": [],
      "source": [
        "from torchvision.datasets import MNIST, FashionMNIST\n",
        "import torchvision.transforms as transforms\n",
        "from torch.utils.data import DataLoader\n",
        "\n",
        "\n",
        "mnist_transform = transforms.Compose([transforms.ToTensor(),])\n",
        "#ToTensor converts the  data images to torch tensor\n",
        "kwargs = {'num_workers': 1, 'pin_memory': True}\n",
        "#The above is some setting with the GPUs\n",
        "\n",
        "train_dataset = FashionMNIST(dataset_path, transform=mnist_transform, train=True, download=True)\n",
        "test_dataset  = FashionMNIST(dataset_path, transform=mnist_transform, train=False, download=True)\n",
        "\n",
        "train_dataset, validation_dataset = random_split(train_dataset, [train_size, validation_size])\n",
        "\n",
        "#The above line redefines the train_dataset to use a randomly chosen train_size sized subset of the train_dataset\n",
        "#Quite obviously using larger train_size should help.\n",
        "#In this particular demonstration we shall not make use of the validation_dataset that gets produced above.\n",
        "#Typically performance on the validation_dataset is what is used to determine good choices of achitecture and the step-lengths and the number of epochs.\n",
        "\n",
        "train_loader = DataLoader(dataset=train_dataset, batch_size=batch_size, shuffle=True, **kwargs)\n",
        "test_loader  = DataLoader(dataset=test_dataset,  batch_size=test_batch_size, shuffle=False, **kwargs)"
      ]
    },
    {
      "cell_type": "markdown",
      "metadata": {
        "id": "-L5g-QhSiSrr"
      },
      "source": [
        "For various future purposes it is important to know that both the data options we work with above consist of 60000 training data and 10000 test data, and all being 28x28 black and white images. These 28x28 pixel values range from 0 to 255 - the smaller numbers closer to zero represent the darker shade while the larger numbers closer to 255 represent the lighter or the white shade."
      ]
    },
    {
      "cell_type": "code",
      "execution_count": 19,
      "metadata": {
        "colab": {
          "base_uri": "https://localhost:8080/"
        },
        "id": "of02NKU9kvxI",
        "outputId": "4018066d-c9bc-49dc-b247-42ba81ca0a75"
      },
      "outputs": [
        {
          "output_type": "stream",
          "name": "stdout",
          "text": [
            "60000\n",
            "10000\n"
          ]
        }
      ],
      "source": [
        "test_size = len(test_dataset)\n",
        "print(train_size)\n",
        "print(test_size)"
      ]
    },
    {
      "cell_type": "markdown",
      "metadata": {
        "id": "c1Ge4Zu139hN"
      },
      "source": [
        "#Defining Our Variational AutoEncoder (VAE)\n",
        "\n",
        "NOTATION : Any quantity like $A_{\\rm some-number}$ or $B_{\\rm some-number}$ denotes an affine transformation between appropriate Euclidean spaces.  These are implemented in PyTorch via the keyword ``nn.Linear\" - quite a misnomer!!"
      ]
    },
    {
      "cell_type": "markdown",
      "metadata": {
        "id": "Lq1lJMVT-ghG"
      },
      "source": [
        "##Defining The Encoder"
      ]
    },
    {
      "cell_type": "code",
      "execution_count": 20,
      "metadata": {
        "id": "PTJHiU5Gi1BZ"
      },
      "outputs": [],
      "source": [
        "class Encoder(nn.Module):\n",
        "\n",
        "    def __init__(self, input_dim, hidden_dim, latent_dim):\n",
        "        super(Encoder, self).__init__()\n",
        "\n",
        "        self.FC_layer_1 = nn.Linear(input_dim, hidden_dim)\n",
        "        self.FC_layer_2 = nn.Linear(hidden_dim, hidden_dim)\n",
        "        self.FC_mean  = nn.Linear(hidden_dim, latent_dim)\n",
        "        self.FC_var   = nn.Linear (hidden_dim, latent_dim)\n",
        "\n",
        "        self.LeakyReLU = nn.LeakyReLU(0.2)\n",
        "\n",
        "        self.training = True\n",
        "\n",
        "    def forward(self, x):\n",
        "        h_1      = self.LeakyReLU(self.FC_layer_1(x))\n",
        "        # R^{image_dim} \\ni x -> = LeakyReLU(A_1(x)) = h_1 \\in R^{hidden_dim}\n",
        "        h_2       = self.LeakyReLU(self.FC_layer_2(h_1))\n",
        "        # R^{hidden_dim} \\ni h_1 -> LeakyReLU(A_2(h_1)) = h_2 \\in R^{hidden_dim}\n",
        "        mean     = self.FC_mean(h_2)\n",
        "        log_var  = self.FC_var(h_2)\n",
        "        # R^{hidden_dim} \\ni h_2 -> (A_31(h_2),A_32(h_2)) = (mean,log_var) \\in R^{latent_dim} x R^{latent_dim}\n",
        "\n",
        "        # encoder produces mean and log of variance i.e., parameters of a Gaussian distribution \"q\"\n",
        "\n",
        "        return mean, log_var\n",
        "\n",
        "# So here the Encoder is a depth-3 net mapping R^{input_dim} -> R^{latent_dim} x R^{latent_dim} as x -> ( A31( ReLU(A2( ReLU(A1(x)) )) ), A32( ReLU(A2( ReLU(A1(x)) )) ) )"
      ]
    },
    {
      "cell_type": "markdown",
      "metadata": {
        "id": "RMjFVRs46RTM"
      },
      "source": [
        "We define the following equivalences betwee the program variables and the mathematical variable,\n",
        "\n",
        "${\\tt input\\_dim} = {\\rm image-dimension}$\n",
        "\n",
        "${\\tt hidden\\_dim} = {\\rm hidden-dimension}$\n",
        "\n",
        "${\\tt latent\\_dim} = {\\rm latent-dimension}$\n",
        "\n",
        "\n",
        "Then the structure of the encoder defined above motivates the definintion of two sub-networks of the ${\\rm Encoder}$ net as ${\\rm Enc}_1$ and ${\\rm Enc}_2$ to facilitate future description :\n",
        "\n",
        "\\begin{align}\n",
        "{\\rm Encoder} : \\mathbb{R}^{\\rm image-dimension} \\rightarrow &\\mathbb{R}^{\\rm latent-dimension} \\times \\mathbb{R}^{\\rm latent-dimension} \\\\\n",
        "\\vec{x} \\mapsto &({\\rm Enc}_1 (\\vec{x}),{\\rm Enc}_2 (\\vec{x}))\n",
        "= (A_{31}(\\vec{h_2}),A_{32}(\\vec{h_2})) = ({\\rm mean}, {\\rm log-var})\\\\\n",
        "&{\\tt {\\rm where , } ~\\mathbb{R}^{\\rm hidden-dimension} \\ni \\vec{h_2} = {\\rm ReLU}( A_2 ({\\rm ReLU} (A_1(\\vec{x}))))}\n",
        "\\end{align}\n",
        "\n",
        "\n",
        "\n",
        "Recall that any affine transform of the form $A_* : \\mathbb{R}^m \\rightarrow \\mathbb{R}^n$ acts on an input vector $\\vec{q}$ as $A_*(\\vec{q}) = L_*(\\vec{q}) + \\vec{b}_*$ where $\\vec{b}_* \\in \\mathbb{R}^n$ and $L_*$ is a $m \\times n$ matrix. **Question :** In terms of ${\\rm input/output/hidden - dimension}$ count how many trainable parameters does the encoder have?  "
      ]
    },
    {
      "cell_type": "code",
      "execution_count": 21,
      "metadata": {
        "id": "6Py0lEMDAhY8",
        "outputId": "8b239afe-9a64-42e9-b40a-06cbde01bc56",
        "colab": {
          "base_uri": "https://localhost:8080/"
        }
      },
      "outputs": [
        {
          "output_type": "stream",
          "name": "stdout",
          "text": [
            "Linear(in_features=784, out_features=1024, bias=True) Trainable Parameters: 803,840\n",
            "Linear(in_features=1024, out_features=1024, bias=True) Trainable Parameters: 1,049,600\n",
            "Linear(in_features=1024, out_features=8, bias=True) Trainable Parameters: 8,200\n",
            "Linear(in_features=1024, out_features=8, bias=True) Trainable Parameters: 8,200\n",
            "Total parameters: 1,869,840\n"
          ]
        }
      ],
      "source": [
        "# This is the parameter count code, it takes as input a model\n",
        "# and outputs the parameters in each layer and the total number\n",
        "# The general formula will be (input_dim * output_dim) + output_dim\n",
        "# (input_dim * output_dim) gives the number of weights\n",
        "# + output_dim arises due to the application of a bias term.\n",
        "def parameter_count(model):\n",
        "    total_parameters = 0\n",
        "    layer_parameters = []\n",
        "    layer_type = []\n",
        "    for layer in model.children():\n",
        "        i_feature = getattr(layer, 'in_features', None)\n",
        "        o_feature = getattr(layer, 'out_features', None)\n",
        "\n",
        "        # I believe all layers should have both of these features\n",
        "        if i_feature is None or o_feature is None:\n",
        "            continue\n",
        "        parameters = (i_feature * o_feature) + o_feature\n",
        "\n",
        "        layer_parameters.append(parameters)\n",
        "        total_parameters += parameters\n",
        "        layer_type.append(layer)\n",
        "\n",
        "    [print(name, 'Trainable Parameters:', f'{x:,}') for x, name in zip(layer_parameters, layer_type)]\n",
        "    print('Total parameters:', f'{total_parameters:,}')\n",
        "\n",
        "    return layer_parameters, total_parameters\n",
        "\n",
        "# Here the model has not been defined yet, but given that\n",
        "\n",
        "layer_parameters, total_parameters = parameter_count(Encoder(x_dim, hidden_dim, latent_dim))\n"
      ]
    },
    {
      "cell_type": "markdown",
      "metadata": {
        "id": "h33KnZvl-p9-"
      },
      "source": [
        "## Defining The Decoder"
      ]
    },
    {
      "cell_type": "code",
      "execution_count": 22,
      "metadata": {
        "id": "jj8_ocPpi5FG"
      },
      "outputs": [],
      "source": [
        "class Decoder(nn.Module):\n",
        "    def __init__(self, latent_dim, hidden_dim, output_dim):\n",
        "        super(Decoder, self).__init__()\n",
        "\n",
        "        self.FC_dec_layer_1 = nn.Linear(latent_dim, hidden_dim)\n",
        "        self.FC_dec_layer_2 = nn.Linear(hidden_dim, hidden_dim)\n",
        "        self.FC_output = nn.Linear(hidden_dim, output_dim)\n",
        "\n",
        "        self.LeakyReLU = nn.LeakyReLU(0.2)\n",
        "\n",
        "    def forward(self, z):\n",
        "        dec_h_1     = self.LeakyReLU(self.FC_dec_layer_1(z))\n",
        "        # R^{latent_dim} \\ni z -> ReLU(B1(z)) = dec_h_1 \\in R^{hidden_dim}\n",
        "\n",
        "        dec_h_2     = self.LeakyReLU(self.FC_dec_layer_2(dec_h_1))\n",
        "        # R^{hidden_dim} \\ni dec_h_1 -> ReLU(B2(dec_h_1)) = dec_h_2 \\in R^{hidden_dim}\n",
        "\n",
        "        x_hat = torch.sigmoid(self.FC_output(dec_h_2))\n",
        "        #R^{hidden_dim} \\ni dec_h_2 -> Sigmoid(B3(dec_h_2)) = x_hat \\in R^{output_dim}\n",
        "\n",
        "        return x_hat\n",
        "\n",
        "\n",
        "# So here the Decoder is a depth-3 net mapping R^{latent_dim} -> R^{output_dim} as z -> Sigmoid(B3( ReLU(B2( ReLU(B1(z)) )) ))"
      ]
    },
    {
      "cell_type": "markdown",
      "metadata": {
        "id": "B31tHJY1rhnt"
      },
      "source": [
        "We further define the following renaming between the program variables and the mathematical variable,\n",
        "\n",
        "${\\tt output\\_dim} = {\\rm decoder-output-dimension}$\n",
        "\n",
        "\n",
        "\n",
        "\n",
        "Recall that any affine transform of the form $A_* : \\mathbb{R}^m \\rightarrow \\mathbb{R}^n$ acts on an input vector $\\vec{q}$ as $A_*(\\vec{q}) = L_*(\\vec{q}) + \\vec{b}_*$ where $\\vec{b}_* \\in \\mathbb{R}^n$ and $L_*$ is a $m \\times n$ matrix. **Question :** In terms of ${\\rm input/output/hidden - dimension}$ count how many trainable parameters does the decoder have?"
      ]
    },
    {
      "cell_type": "code",
      "execution_count": 23,
      "metadata": {
        "id": "hF6nIbZWAhY8",
        "outputId": "cc7bea80-6358-4de4-f7c8-5e3f0f8138f0",
        "colab": {
          "base_uri": "https://localhost:8080/"
        }
      },
      "outputs": [
        {
          "output_type": "stream",
          "name": "stdout",
          "text": [
            "Linear(in_features=8, out_features=1024, bias=True) Trainable Parameters: 9,216\n",
            "Linear(in_features=1024, out_features=1024, bias=True) Trainable Parameters: 1,049,600\n",
            "Linear(in_features=1024, out_features=784, bias=True) Trainable Parameters: 803,600\n",
            "Total parameters: 1,862,416\n"
          ]
        }
      ],
      "source": [
        "layer_parameters, total_parameters = parameter_count(Decoder(latent_dim, hidden_dim, x_dim))"
      ]
    },
    {
      "cell_type": "markdown",
      "metadata": {
        "id": "s5ZalDKQ-yR-"
      },
      "source": [
        "## Combining The Encoder And The Decoder"
      ]
    },
    {
      "cell_type": "code",
      "execution_count": 24,
      "metadata": {
        "id": "nocVfz19i_vO"
      },
      "outputs": [],
      "source": [
        "def reparameterization(mean, var):\n",
        "        epsilon = torch.randn_like(var).to(DEVICE)\n",
        "        # sampling epsilon ~ N(0,I_{latent-dimension x latent-dimension})\n",
        "        y = mean + var*epsilon\n",
        "        # The so-called \"reparameterization trick\"\n",
        "        return y"
      ]
    },
    {
      "cell_type": "markdown",
      "metadata": {
        "id": "FUwn9lhzqM5v"
      },
      "source": [
        "The above function specifies that $\\vec{y}$ is a random variable s.t,\n",
        "$${\\mathbb{R}}^{{\\rm latent-dimension}} \\ni {\\vec y} \\sim \\vec{ {\\rm mean}} + {\\rm var} \\times {\\cal N}(0,I)) \\sim {\\cal N}(\\vec{{\\rm mean}}, {\\rm diag(var^2)})$$"
      ]
    },
    {
      "cell_type": "code",
      "execution_count": 25,
      "metadata": {
        "id": "KO03r8d34Jh1"
      },
      "outputs": [],
      "source": [
        "## Now we define the final model\n",
        "\n",
        "class Model(nn.Module):\n",
        "    def __init__(self, Encoder, Decoder):\n",
        "        super(Model, self).__init__()\n",
        "\n",
        "        self.Encoder = Encoder\n",
        "        self.Decoder = Decoder\n",
        "\n",
        "\n",
        "    def forward(self, x):\n",
        "        mean, log_var = self.Encoder(x)\n",
        "        y = reparameterization(mean, torch.exp(0.5 * log_var))\n",
        "        x_hat = self.Decoder(y)\n",
        "\n",
        "        return x_hat, mean, log_var"
      ]
    },
    {
      "cell_type": "markdown",
      "metadata": {
        "id": "92X8OhG5uqS6"
      },
      "source": [
        "NOTE: In here we shall use the $\\log$ and the $\\exp$ to be acting coordinate-wise when applied to a vector.\n",
        "\n",
        "For every input (image) vector $\\vec{x}$, the ``forward\" function above does the following $3$ step computation,  \n",
        "\n",
        "> STEP-1 : $$ (\\vec{\\mu_z}, 2\\cdot \\log(\\vec{\\sigma_z})) := {\\rm Encoder}_{\\Phi} (\\vec{x})$$\n",
        "\n",
        "The \"reparameterization\" function is getting called with ${\\tt mean} = \\vec{\\mu_z}$ and ${\\tt var} = \\exp({\\frac{1}{2} \\times 2\\cdot \\log(\\vec{\\sigma_z})}) = \\vec{\\sigma_z} $\n",
        "\n",
        "\n",
        "And it returns a sample of a random variable s.t,\n",
        "> STEP-2 : $${\\vec z} \\sim   {\\cal N}(\\vec{\\mu_z},{\\rm diag}(\\vec{\\sigma_z} \\circ \\vec{\\sigma_z}))$$\n",
        "\n",
        "(There is a bit of a misnaming here since the word ${\\tt var}$ might remind one of \"variance\" but as is clear from above its actually the ``standard deviation'' of the latent variable. But we shall stick with usual definitions for now.)\n",
        "\n",
        "Also the above 2 Steps together now effectively specify a choice of the function $f$ that was mentioned in the previous section, \"Parameterizing The Distributions\"\n",
        "\n",
        "\n",
        ">STEP-3 : $$\\hat{x} = {\\rm Decoder}_{\\Theta}(\\vec{z})$$\n",
        "\n",
        "Thus for every data $\\vec{x}$ the ${\\tt forward}$ function returns a $3-$tuple of vectors,\n",
        "$${\\tt (x\\_{hat}, mean, log\\_var)} :=  (\\hat{x},\\vec{\\mu_z}, 2\\cdot \\log(\\vec{\\sigma_z}))$$\n",
        "\n",
        "\n",
        "\n",
        "**In many usual neural net implementaions the ``forward\" function/propagation just computes an output vector after evaluating some neural net at the given input. But in V.A.E. things are much more complicated! Here the forward function implements a \"stochastic process'' which uses (two) neural nets, the input data and a source of randomization and computes a set of 3 vectors as given above - of which $\\hat{x}$ is a random variable.**"
      ]
    },
    {
      "cell_type": "code",
      "execution_count": 26,
      "metadata": {
        "colab": {
          "base_uri": "https://localhost:8080/"
        },
        "id": "K3uM_R01AhRt",
        "outputId": "90efbbea-b753-403a-e5ee-133a67ceff8e"
      },
      "outputs": [
        {
          "output_type": "stream",
          "name": "stdout",
          "text": [
            "----------------------------------------------------------------\n",
            "        Layer (type)               Output Shape         Param #\n",
            "================================================================\n",
            "            Linear-1              [-1, 1, 1024]         803,840\n",
            "         LeakyReLU-2              [-1, 1, 1024]               0\n",
            "            Linear-3              [-1, 1, 1024]       1,049,600\n",
            "         LeakyReLU-4              [-1, 1, 1024]               0\n",
            "            Linear-5                 [-1, 1, 8]           8,200\n",
            "            Linear-6                 [-1, 1, 8]           8,200\n",
            "           Encoder-7   [[-1, 1, 8], [-1, 1, 8]]               0\n",
            "            Linear-8              [-1, 1, 1024]           9,216\n",
            "         LeakyReLU-9              [-1, 1, 1024]               0\n",
            "           Linear-10              [-1, 1, 1024]       1,049,600\n",
            "        LeakyReLU-11              [-1, 1, 1024]               0\n",
            "           Linear-12               [-1, 1, 784]         803,600\n",
            "          Decoder-13               [-1, 1, 784]               0\n",
            "================================================================\n",
            "Total params: 3,732,256\n",
            "Trainable params: 3,732,256\n",
            "Non-trainable params: 0\n",
            "----------------------------------------------------------------\n",
            "Input size (MB): 0.00\n",
            "Forward/backward pass size (MB): 0.07\n",
            "Params size (MB): 14.24\n",
            "Estimated Total Size (MB): 14.31\n",
            "----------------------------------------------------------------\n",
            "Total number of parameters:  3732256\n"
          ]
        }
      ],
      "source": [
        "encoder = Encoder(input_dim=x_dim, hidden_dim=hidden_dim, latent_dim=latent_dim)\n",
        "decoder = Decoder(latent_dim=latent_dim, hidden_dim = hidden_dim, output_dim = x_dim)\n",
        "\n",
        "model = Model(Encoder=encoder, Decoder=decoder).to(DEVICE)\n",
        "\n",
        "#(en)/(de)coder is an object of the class (En)/(De)coder\n",
        "#model is an object of the class Model  - which takes as input entire objects encoder and the decoder\n",
        "\n",
        "summary(model,(1,x_dim))\n",
        "total_params = sum(p.numel() for p in model.parameters())\n",
        "print(\"Total number of parameters: \", total_params)"
      ]
    },
    {
      "cell_type": "markdown",
      "metadata": {
        "id": "1odt2Hz8xzKs"
      },
      "source": [
        "The above instantiation of the VAE model crucially forced the following equuality between the different parameters,\n",
        "\n",
        "${\\rm image-dimension} (={\\tt input\\_dim})= {\\rm decoder-output-dimension}(={\\tt output\\_dim}) = {\\tt x\\_dim}$"
      ]
    },
    {
      "cell_type": "markdown",
      "metadata": {
        "id": "HTMp-ld7Dgsn"
      },
      "source": [
        ">This forcing of the input to the encoder and the output of the decoder to be the same dimension motivates the terminology of an ``autoencoder\" - though **strictly speaking an \"autoencoder\" refers to a single neural net mapping $\\mathbb{R}^k \\rightarrow \\mathbb{R}^k$ for some $k$ to be an autoencoder**. *V.A.E is not an autoencoder in the same sense* since it is **NOT** representatable as a single function from the input to the encoder to the outoput of the decoder.*\n",
        "\n",
        "\n",
        "\n"
      ]
    },
    {
      "cell_type": "markdown",
      "metadata": {
        "id": "AZgO0s6HKWRz"
      },
      "source": [
        "# Defining the Loss Function and the Optimizer"
      ]
    },
    {
      "cell_type": "code",
      "execution_count": 27,
      "metadata": {
        "id": "EZKULh3zKbc5"
      },
      "outputs": [],
      "source": [
        "from torch.optim import Adam\n",
        "\n",
        "\n",
        "# p(x|z) = N(x; x_hat, 1); x_hat = decoder(z)\n",
        "def loss_function(x, x_hat, mean, log_var):\n",
        "    MSE_Loss = nn.functional.mse_loss(x_hat, x, reduction='sum')\n",
        "    KLD      = - 0.5 * torch.sum(1 + log_var - mean.pow(2) - (log_var).exp())\n",
        "    # For dim = 1, torch.sum(a_ij, dim=1) = \\sum_{j=1}^d a_ij\n",
        "    # 1 here is an all ones matrix of size (minibatch_size, latent_dimension)\n",
        "    return MSE_Loss + KLD\n",
        "\n",
        "\n",
        "#optimizer = Adam(model.parameters(), lr=lr)\n",
        "optimizer = Adam(model.parameters(), lr=lr, weight_decay=0.001)"
      ]
    },
    {
      "cell_type": "markdown",
      "metadata": {
        "id": "GkeBUNwEsU3s"
      },
      "source": [
        "Recall the variable ${\\tt batch\\_size}$(say $=m$) that was defined earlier. Now we realize that this $m$ is the \"mini-batch\" size i.e the number of samples of data the eventual algorithm will use to define a stochastic gradient. Further recalling the definition of the ${\\rm image-dimension}$ (the input dimension to the encoder) we realize that the function ${\\rm loss\\_function}$ is designed to get as input as set of $4$ matrices,\n",
        "- $2$ matrices ${\\bf \\tt x}, {\\bf \\tt x\\_{\\rm hat}} \\in \\mathbb{R}^{m \\times {\\rm image-dimension}}$\n",
        "- $2$ matrices, ${\\tt mean, log\\_var} \\in \\mathbb{R}^{m \\times {\\rm latent-dimension}}$\n",
        "\n",
        "**Although the above are the right matrix dimensions for how the code operates, for ease of exposition, in what follows we shall treat ${\\tt (x\\_{hat}, mean, log\\_var)}$ as just vectors of appropriate dimensions as would be obtained from a single input data/image data $\\vec{x}$**\n",
        "\n",
        "Towards understanding the above loss function computation recall the identification that we had established between the theoretical variables and the code variables, *(Recall that here $\\log$ and $\\exp$ applied to any vector shall be seen as being a shorthand for element-wise application)*\n",
        "\n",
        "\n",
        "$${\\tt (x\\_{hat}, mean, log\\_var)} :=  (\\hat{x},\\vec{\\mu_z}, 2\\cdot \\log(\\vec{\\sigma_z}))$$\n",
        "\n",
        "\n",
        "First we recall that we had defined, $p_{\\Theta}(\\vec{x} |\\vec{z}) := \\mathcal{N}({\\rm Decoder}_{\\Theta}(\\vec{z}), {\\rm diag(all{-}ones{-}vector)})$.Hence on any one input data $\\vec{x}$ the ''Reconstruction Loss'' part of the Variational Free Energy is,\n",
        "In above one is computing,\n",
        "\n",
        "> First Term of V.F.E. =  \n",
        " $$ {\\rm Reconstruction-Loss}(\\vec{x}) = -\\log p_{\\Theta}(\\vec{x}|\\vec{z}) = \\frac{1}{2}||{\\vec{x}-{\\rm Decoder}_{\\Theta}(\\vec{z})}||_2^2 = \\frac{1}{2}||\\vec{x}- \\hat{x}||_2^2 $$\n",
        "\n",
        "In above we have recalled the definition of $\\hat{x}$ from the definition of the ``forward\" function.  Further recall, that we had defined, $p(\\vec{x} |\\vec{z}) = p_{\\Theta}(\\vec{x} |\\vec{z}) := \\mathcal{N}({\\rm Decoder}_{\\Theta}(\\vec{z}), {\\rm diag(all{-}ones{-}vector)})$ -- which implies that there should have been a second term in the above ${\\rm Reconstruction-Loss}$ coming from the normalization constant in $\\mathcal{N}({\\rm Decoder}_{\\Theta}(\\vec{z}), {\\rm diag(all{-}ones{-}vector)})$ - but we shall ignore it since its a constant and that doesnt affect the gradients that would get taken w.r.t the neural weights.\n",
        "\n",
        "Now let's recall the KL formula we had seen earlier,\n",
        "\n",
        "$${\\rm KL}({\\cal N}(\\vec{\\mu},\\Sigma) || {\\cal N}(0,I) ) =  \\frac{-1}{2} \\cdot \\left [k + \\log {\\det (\\Sigma)} - \\Vert{\\vec{\\mu}}\\Vert^2 - {\\rm Tr} (\\Sigma) \\right ] $$\n",
        "\n",
        "This we need to invoke  for,\n",
        "\n",
        "$$ {\\rm KL} (q_{\\Phi}(\\vec{z} |\\vec{x}) \\Vert p(\\vec{z}) ) = {\\rm KL} ({\\cal N}(f({\\rm Encoder}_{\\Phi} (\\vec{x}))) \\Vert {\\cal N}(0,I) )$$\n",
        "\n",
        "where, we recall that, ${\\cal N}(f({\\rm Encoder}_{\\Phi} (\\vec{x}))) = {\\cal N}(\\vec{\\mu_z},\\Sigma)$ with  $\\Sigma = {\\rm diag}(\\vec{\\sigma_z} \\circ \\vec{\\sigma_z}) (= {\\rm diag} (e^{{\\tt log\\_var}} ))$ and thus we have,\n",
        "\n",
        "> Second Term of V.F.E. =\n",
        "$${\\rm KL} (q_{\\Phi}(\\vec{z} |\\vec{x}) \\Vert p(\\vec{z}) ) = -\\frac{1}{2} \\cdot \\sum_{i=1}^{\\rm latent-dimension} \\left [  1 +  ({\\rm log\\_var}_i) - {\\rm mean}_i^2 - e^{ {\\tt log\\_var_i}}   \\right ]$$\n",
        "\n",
        "\n",
        "Thus the loss being computed at data $\\vec{x}$ is,\n",
        "\n",
        "\\begin{align}\n",
        "&-\\log p_{\\Theta}(\\vec{x}|\\vec{z})  + {\\rm KL} (q_{\\Phi}(\\vec{z} |\\vec{x}) \\Vert p(\\vec{z}) )\\\\\n",
        "&= \\frac{1}{2}||\\vec{x}- \\hat{x}||_2^2 -\\frac{1}{2} \\cdot \\sum_{i=1}^{\\rm latent-dimension} \\left [  1 +  ({\\rm log\\_var}_i) - {\\rm mean}_i^2 - e^{ {\\tt log\\_var_i}}   \\right ]\n",
        "\\end{align}"
      ]
    },
    {
      "cell_type": "markdown",
      "metadata": {
        "id": "m7ePacjOEsWv"
      },
      "source": [
        "# Training The VAE"
      ]
    },
    {
      "cell_type": "markdown",
      "metadata": {
        "id": "zOe9Z7ZrJGD6"
      },
      "source": [
        "Takes 12 minutes without GPU on standard (F)MNIST at the following (most tested) settings :\n",
        "\n",
        "batch_size = 100,\n",
        "hidden_dim = 400,\n",
        "latent_dim = 200,\n",
        "lr = 1e-3,\n",
        "epochs = 20"
      ]
    },
    {
      "cell_type": "code",
      "execution_count": 28,
      "metadata": {
        "colab": {
          "base_uri": "https://localhost:8080/"
        },
        "id": "G3aJJE1DE0z_",
        "outputId": "5fe4a4a5-d230-4613-9d78-ac4231e1373e"
      },
      "outputs": [
        {
          "output_type": "stream",
          "name": "stdout",
          "text": [
            "The VAE training starts.\n",
            "\tEpoch 1 complete!\n",
            "\tEpoch 2 complete!\n",
            "\tEpoch 3 complete!\n",
            "\tEpoch 4 complete!\n",
            "\tEpoch 5 complete!\n",
            "\tEpoch 6 complete!\n",
            "\tEpoch 7 complete!\n",
            "\tEpoch 8 complete!\n",
            "\tEpoch 9 complete!\n",
            "\tEpoch 10 complete!\n",
            "\tEpoch 11 complete!\n",
            "\tEpoch 12 complete!\n",
            "\tEpoch 13 complete!\n",
            "\tEpoch 14 complete!\n",
            "\tEpoch 15 complete!\n",
            "\tEpoch 16 complete!\n",
            "\tEpoch 17 complete!\n",
            "\tEpoch 18 complete!\n",
            "\tEpoch 19 complete!\n",
            "\tEpoch 20 complete!\n",
            "The VAE training is over!\n"
          ]
        }
      ],
      "source": [
        "print(\"The VAE training starts.\")\n",
        "model.train()\n",
        "Training_Loss = []\n",
        "Risk = []\n",
        "Epoch = []\n",
        "Risk_Epoch = []\n",
        "\n",
        "for epoch in range(epochs):\n",
        "    # At the beginning of each epoch we calculate the training and the test loss.\n",
        "    training_loss = 0\n",
        "    for batch_number, (r, _) in enumerate(train_loader):\n",
        "            r = r.view(batch_size, x_dim)\n",
        "            r = r.to(DEVICE)\n",
        "            r_hat, mean, log_var = model(r)\n",
        "            mini_batch_loss = loss_function(r, r_hat, mean, log_var)\n",
        "            training_loss += mini_batch_loss.item()\n",
        "            #mini_batch_loss.item() = training loss on the current mini-batch\n",
        "            #training_loss is accumulating the mini-batch losses to compute the loss on the entire training data.\n",
        "\n",
        "    Training_Loss.append(training_loss/(train_size))\n",
        "    #Now we compute the test loss at the same model parameters at which the above training loss was calculated.\n",
        "    if  epoch%5 == 0:\n",
        "        test_loss = 0\n",
        "        for test_batch_number, (t, _) in enumerate(test_loader):\n",
        "                t = t.view(test_batch_size, x_dim)\n",
        "                t = t.to(DEVICE)\n",
        "                t_hat, mean, log_var = model(t)\n",
        "                mini_batch_loss = loss_function(t, t_hat, mean, log_var)\n",
        "                test_loss += mini_batch_loss.item()\n",
        "\n",
        "        Risk.append(test_loss/(test_size))\n",
        "        Risk_Epoch.append(epoch+1)\n",
        "\n",
        "    for batch_number, (x, _) in enumerate(train_loader):\n",
        "        x = x.view(batch_size, x_dim)\n",
        "        x = x.to(DEVICE)\n",
        "\n",
        "        #(x,_) pulls out a mini-batch from the train_loader which has now been converted into an enumeratable data type\n",
        "        #There is some ancilliary information attached to each mini-batch which we dont care about and that is held in that \"_\"\n",
        "        #batch_number adds 1 to itself everytime a mini-batch is pulled out\n",
        "        #Thus the batch_number counts the number of mini-batches in the training data - a number we did not know till now.\n",
        "\n",
        "        optimizer.zero_grad()\n",
        "\n",
        "        x_hat, mean, log_var = model(x)\n",
        "        mini_batch_loss = loss_function(x, x_hat, mean, log_var)\n",
        "        mini_batch_loss.backward()\n",
        "        optimizer.step()\n",
        "\n",
        "    print(\"\\tEpoch\", epoch + 1, \"complete!\")\n",
        "\n",
        "    Epoch.append(epoch+1)\n",
        "\n",
        "\n",
        "print(\"The VAE training is over!\")"
      ]
    },
    {
      "cell_type": "markdown",
      "metadata": {
        "id": "DJUKX6p8UASC"
      },
      "source": [
        "## Understanding the Dynamics of the Training Loss & the Population Risk"
      ]
    },
    {
      "cell_type": "code",
      "execution_count": 29,
      "metadata": {
        "colab": {
          "base_uri": "https://localhost:8080/",
          "height": 475
        },
        "id": "lSLnZO7WTO5o",
        "outputId": "aa88bbfe-6bc0-4628-950e-50c76e6dff5f"
      },
      "outputs": [
        {
          "output_type": "execute_result",
          "data": {
            "text/plain": [
              "Text(0.5, 0, 'epoch')"
            ]
          },
          "metadata": {},
          "execution_count": 29
        },
        {
          "output_type": "display_data",
          "data": {
            "text/plain": [
              "<Figure size 640x480 with 1 Axes>"
            ],
            "image/png": "[encoded data removed]"
          },
          "metadata": {}
        }
      ],
      "source": [
        "train, = plt.plot(Epoch, Training_Loss, label=(\"Empirical Loss\"))\n",
        "test, = plt.plot(Risk_Epoch, Risk, label= (\"Population Risk\"))\n",
        "plt.legend(handles=[train, test])\n",
        "\n",
        "plt.xlabel('epoch')"
      ]
    },
    {
      "cell_type": "code",
      "execution_count": 30,
      "metadata": {
        "colab": {
          "base_uri": "https://localhost:8080/"
        },
        "id": "1HqHUpzpMFOY",
        "outputId": "c1201174-d68e-4053-ad94-03ffe4e6e21c"
      },
      "outputs": [
        {
          "output_type": "stream",
          "name": "stdout",
          "text": [
            "Number of Training Batches = 600  & Number of Test Batches = 1\n",
            "Mini-Batch Size = 100\n"
          ]
        }
      ],
      "source": [
        "print (\"Number of Training Batches =\",batch_number+1,\" & Number of Test Batches =\",test_batch_number+1)\n",
        "print (\"Mini-Batch Size =\",batch_size)"
      ]
    },
    {
      "cell_type": "markdown",
      "metadata": {
        "id": "Gx8GaQQeepwt"
      },
      "source": [
        "# The Trained Model Can Map The Test Data to Itself - Almost!"
      ]
    },
    {
      "cell_type": "code",
      "execution_count": 31,
      "metadata": {
        "colab": {
          "base_uri": "https://localhost:8080/"
        },
        "id": "BoKycmzHeu7z",
        "outputId": "d207203a-3bc3-4740-c3ef-e5d4d57367ca"
      },
      "outputs": [
        {
          "output_type": "stream",
          "name": "stderr",
          "text": [
            "  0%|          | 0/1 [00:01<?, ?it/s]\n"
          ]
        }
      ],
      "source": [
        "model.eval()\n",
        "\n",
        "with torch.no_grad():\n",
        "    for batch_idx, (x, _) in enumerate(tqdm(test_loader)):\n",
        "        x = x.view(test_batch_size, x_dim)\n",
        "        x = x.to(DEVICE)\n",
        "        x_hat, _, _ = model(x)\n",
        "        break\n",
        "\n",
        "\n",
        "def show_image(x, idx):\n",
        "    x = x.view(test_batch_size, 28, 28)\n",
        "    fig = plt.figure()\n",
        "    plt.imshow(x[idx].cpu().numpy())"
      ]
    },
    {
      "cell_type": "markdown",
      "metadata": {
        "id": "HbY-o3Bd6R1C"
      },
      "source": [
        "Recall that the later of the 2 images ${\\tt x\\_hat}$($\\tt idx$ element of it) is the output when the VAE gets the fist image ${\\tt x}$($\\tt idx$ element of it) as input.\n",
        "\n",
        "Thus the two images being close implies that the VAE was able to almost successfully reconstruct its input - as it was needed to do!\n",
        "\n",
        "Also note that the above test was run on test data - thats unseen data for the training - and hence this is testing **``generalizability\"**\n",
        "\n",
        "--  i.e whether the VAE is doing the good reconstructions on new data that it was not trained on."
      ]
    },
    {
      "cell_type": "code",
      "execution_count": 50,
      "metadata": {
        "id": "QEXNA1x0AhY-",
        "outputId": "d8be8678-3d99-4238-a723-20d07b638f88",
        "colab": {
          "base_uri": "https://localhost:8080/",
          "height": 1000
        }
      },
      "outputs": [
        {
          "output_type": "stream",
          "name": "stdout",
          "text": [
            "\tEpoch 1 complete!\n",
            "\tEpoch 2 complete!\n",
            "Linear(in_features=784, out_features=128, bias=True) Trainable Parameters: 100,480\n",
            "Linear(in_features=128, out_features=128, bias=True) Trainable Parameters: 16,512\n",
            "Linear(in_features=128, out_features=1, bias=True) Trainable Parameters: 129\n",
            "Linear(in_features=128, out_features=1, bias=True) Trainable Parameters: 129\n",
            "Total parameters: 117,250\n",
            "Linear(in_features=1, out_features=128, bias=True) Trainable Parameters: 256\n",
            "Linear(in_features=128, out_features=128, bias=True) Trainable Parameters: 16,512\n",
            "Linear(in_features=128, out_features=784, bias=True) Trainable Parameters: 101,136\n",
            "Total parameters: 117,904\n",
            "134.6036375\n",
            "\tEpoch 1 complete!\n",
            "\tEpoch 2 complete!\n",
            "Linear(in_features=784, out_features=128, bias=True) Trainable Parameters: 100,480\n",
            "Linear(in_features=128, out_features=128, bias=True) Trainable Parameters: 16,512\n",
            "Linear(in_features=128, out_features=2, bias=True) Trainable Parameters: 258\n",
            "Linear(in_features=128, out_features=2, bias=True) Trainable Parameters: 258\n",
            "Total parameters: 117,508\n",
            "Linear(in_features=2, out_features=128, bias=True) Trainable Parameters: 384\n",
            "Linear(in_features=128, out_features=128, bias=True) Trainable Parameters: 16,512\n",
            "Linear(in_features=128, out_features=784, bias=True) Trainable Parameters: 101,136\n",
            "Total parameters: 118,032\n",
            "134.5248125\n",
            "\tEpoch 1 complete!\n",
            "\tEpoch 2 complete!\n",
            "Linear(in_features=784, out_features=128, bias=True) Trainable Parameters: 100,480\n",
            "Linear(in_features=128, out_features=128, bias=True) Trainable Parameters: 16,512\n",
            "Linear(in_features=128, out_features=4, bias=True) Trainable Parameters: 516\n",
            "Linear(in_features=128, out_features=4, bias=True) Trainable Parameters: 516\n",
            "Total parameters: 118,024\n",
            "Linear(in_features=4, out_features=128, bias=True) Trainable Parameters: 640\n",
            "Linear(in_features=128, out_features=128, bias=True) Trainable Parameters: 16,512\n",
            "Linear(in_features=128, out_features=784, bias=True) Trainable Parameters: 101,136\n",
            "Total parameters: 118,288\n",
            "133.944475\n",
            "\tEpoch 1 complete!\n",
            "\tEpoch 2 complete!\n",
            "Linear(in_features=784, out_features=128, bias=True) Trainable Parameters: 100,480\n",
            "Linear(in_features=128, out_features=128, bias=True) Trainable Parameters: 16,512\n",
            "Linear(in_features=128, out_features=8, bias=True) Trainable Parameters: 1,032\n",
            "Linear(in_features=128, out_features=8, bias=True) Trainable Parameters: 1,032\n",
            "Total parameters: 119,056\n",
            "Linear(in_features=8, out_features=128, bias=True) Trainable Parameters: 1,152\n",
            "Linear(in_features=128, out_features=128, bias=True) Trainable Parameters: 16,512\n",
            "Linear(in_features=128, out_features=784, bias=True) Trainable Parameters: 101,136\n",
            "Total parameters: 118,800\n",
            "133.436725\n",
            "\tEpoch 1 complete!\n",
            "\tEpoch 2 complete!\n",
            "Linear(in_features=784, out_features=128, bias=True) Trainable Parameters: 100,480\n",
            "Linear(in_features=128, out_features=128, bias=True) Trainable Parameters: 16,512\n",
            "Linear(in_features=128, out_features=16, bias=True) Trainable Parameters: 2,064\n",
            "Linear(in_features=128, out_features=16, bias=True) Trainable Parameters: 2,064\n",
            "Total parameters: 121,120\n",
            "Linear(in_features=16, out_features=128, bias=True) Trainable Parameters: 2,176\n",
            "Linear(in_features=128, out_features=128, bias=True) Trainable Parameters: 16,512\n",
            "Linear(in_features=128, out_features=784, bias=True) Trainable Parameters: 101,136\n",
            "Total parameters: 119,824\n",
            "133.6906\n",
            "\tEpoch 1 complete!\n",
            "\tEpoch 2 complete!\n",
            "Linear(in_features=784, out_features=128, bias=True) Trainable Parameters: 100,480\n",
            "Linear(in_features=128, out_features=128, bias=True) Trainable Parameters: 16,512\n",
            "Linear(in_features=128, out_features=32, bias=True) Trainable Parameters: 4,128\n",
            "Linear(in_features=128, out_features=32, bias=True) Trainable Parameters: 4,128\n",
            "Total parameters: 125,248\n",
            "Linear(in_features=32, out_features=128, bias=True) Trainable Parameters: 4,224\n",
            "Linear(in_features=128, out_features=128, bias=True) Trainable Parameters: 16,512\n",
            "Linear(in_features=128, out_features=784, bias=True) Trainable Parameters: 101,136\n",
            "Total parameters: 121,872\n",
            "133.688225\n",
            "\tEpoch 1 complete!\n",
            "\tEpoch 2 complete!\n",
            "Linear(in_features=784, out_features=128, bias=True) Trainable Parameters: 100,480\n",
            "Linear(in_features=128, out_features=128, bias=True) Trainable Parameters: 16,512\n",
            "Linear(in_features=128, out_features=64, bias=True) Trainable Parameters: 8,256\n",
            "Linear(in_features=128, out_features=64, bias=True) Trainable Parameters: 8,256\n",
            "Total parameters: 133,504\n",
            "Linear(in_features=64, out_features=128, bias=True) Trainable Parameters: 8,320\n",
            "Linear(in_features=128, out_features=128, bias=True) Trainable Parameters: 16,512\n",
            "Linear(in_features=128, out_features=784, bias=True) Trainable Parameters: 101,136\n",
            "Total parameters: 125,968\n",
            "133.45815\n",
            "\tEpoch 1 complete!\n",
            "\tEpoch 2 complete!\n",
            "Linear(in_features=784, out_features=128, bias=True) Trainable Parameters: 100,480\n",
            "Linear(in_features=128, out_features=128, bias=True) Trainable Parameters: 16,512\n",
            "Linear(in_features=128, out_features=128, bias=True) Trainable Parameters: 16,512\n",
            "Linear(in_features=128, out_features=128, bias=True) Trainable Parameters: 16,512\n",
            "Total parameters: 150,016\n",
            "Linear(in_features=128, out_features=128, bias=True) Trainable Parameters: 16,512\n",
            "Linear(in_features=128, out_features=128, bias=True) Trainable Parameters: 16,512\n",
            "Linear(in_features=128, out_features=784, bias=True) Trainable Parameters: 101,136\n",
            "Total parameters: 134,160\n",
            "133.7994375\n",
            "\tEpoch 1 complete!\n",
            "\tEpoch 2 complete!\n",
            "Linear(in_features=784, out_features=256, bias=True) Trainable Parameters: 200,960\n",
            "Linear(in_features=256, out_features=256, bias=True) Trainable Parameters: 65,792\n",
            "Linear(in_features=256, out_features=1, bias=True) Trainable Parameters: 257\n",
            "Linear(in_features=256, out_features=1, bias=True) Trainable Parameters: 257\n",
            "Total parameters: 267,266\n",
            "Linear(in_features=1, out_features=256, bias=True) Trainable Parameters: 512\n",
            "Linear(in_features=256, out_features=256, bias=True) Trainable Parameters: 65,792\n",
            "Linear(in_features=256, out_features=784, bias=True) Trainable Parameters: 201,488\n",
            "Total parameters: 267,792\n",
            "134.312875\n",
            "\tEpoch 1 complete!\n",
            "\tEpoch 2 complete!\n",
            "Linear(in_features=784, out_features=256, bias=True) Trainable Parameters: 200,960\n",
            "Linear(in_features=256, out_features=256, bias=True) Trainable Parameters: 65,792\n",
            "Linear(in_features=256, out_features=2, bias=True) Trainable Parameters: 514\n",
            "Linear(in_features=256, out_features=2, bias=True) Trainable Parameters: 514\n",
            "Total parameters: 267,780\n",
            "Linear(in_features=2, out_features=256, bias=True) Trainable Parameters: 768\n",
            "Linear(in_features=256, out_features=256, bias=True) Trainable Parameters: 65,792\n",
            "Linear(in_features=256, out_features=784, bias=True) Trainable Parameters: 201,488\n",
            "Total parameters: 268,048\n",
            "134.1781375\n"
          ]
        },
        {
          "output_type": "error",
          "ename": "KeyboardInterrupt",
          "evalue": "",
          "traceback": [
            "\u001b[0;31m---------------------------------------------------------------------------\u001b[0m",
            "\u001b[0;31mKeyboardInterrupt\u001b[0m                         Traceback (most recent call last)",
            "\u001b[0;32m<ipython-input-50-5416dc64f12b>\u001b[0m in \u001b[0;36m<cell line: 82>\u001b[0;34m()\u001b[0m\n\u001b[1;32m     85\u001b[0m     \u001b[0mmodel\u001b[0m \u001b[0;34m=\u001b[0m \u001b[0mModel\u001b[0m\u001b[0;34m(\u001b[0m\u001b[0mencoder\u001b[0m\u001b[0;34m,\u001b[0m \u001b[0mdecoder\u001b[0m\u001b[0;34m)\u001b[0m\u001b[0;34m.\u001b[0m\u001b[0mto\u001b[0m\u001b[0;34m(\u001b[0m\u001b[0mDEVICE\u001b[0m\u001b[0;34m)\u001b[0m\u001b[0;34m\u001b[0m\u001b[0;34m\u001b[0m\u001b[0m\n\u001b[1;32m     86\u001b[0m     \u001b[0moptimizer\u001b[0m \u001b[0;34m=\u001b[0m \u001b[0mAdam\u001b[0m\u001b[0;34m(\u001b[0m\u001b[0mmodel\u001b[0m\u001b[0;34m.\u001b[0m\u001b[0mparameters\u001b[0m\u001b[0;34m(\u001b[0m\u001b[0;34m)\u001b[0m\u001b[0;34m,\u001b[0m \u001b[0mlr\u001b[0m\u001b[0;34m=\u001b[0m\u001b[0mlr\u001b[0m\u001b[0;34m,\u001b[0m \u001b[0mweight_decay\u001b[0m\u001b[0;34m=\u001b[0m\u001b[0;36m0.001\u001b[0m\u001b[0;34m)\u001b[0m\u001b[0;34m\u001b[0m\u001b[0;34m\u001b[0m\u001b[0m\n\u001b[0;32m---> 87\u001b[0;31m     \u001b[0mresults\u001b[0m \u001b[0;34m=\u001b[0m \u001b[0mtrain_model\u001b[0m\u001b[0;34m(\u001b[0m\u001b[0mmodel\u001b[0m\u001b[0;34m,\u001b[0m \u001b[0mepochs\u001b[0m\u001b[0;34m,\u001b[0m \u001b[0mtrain_loader\u001b[0m\u001b[0;34m,\u001b[0m \u001b[0mtest_loader\u001b[0m\u001b[0;34m)\u001b[0m\u001b[0;34m\u001b[0m\u001b[0;34m\u001b[0m\u001b[0m\n\u001b[0m\u001b[1;32m     88\u001b[0m \u001b[0;34m\u001b[0m\u001b[0m\n\u001b[1;32m     89\u001b[0m     \u001b[0mdata_cache\u001b[0m\u001b[0;34m[\u001b[0m\u001b[0;34mf'{hidden_dim}|{latent_dim}'\u001b[0m\u001b[0;34m]\u001b[0m \u001b[0;34m=\u001b[0m \u001b[0mresults\u001b[0m\u001b[0;34m\u001b[0m\u001b[0;34m\u001b[0m\u001b[0m\n",
            "\u001b[0;32m<ipython-input-50-5416dc64f12b>\u001b[0m in \u001b[0;36mtrain_model\u001b[0;34m(model, epochs, train_loader, test_loader)\u001b[0m\n\u001b[1;32m     32\u001b[0m             \u001b[0mRisk_Epoch\u001b[0m\u001b[0;34m.\u001b[0m\u001b[0mappend\u001b[0m\u001b[0;34m(\u001b[0m\u001b[0mepoch\u001b[0m\u001b[0;34m+\u001b[0m\u001b[0;36m1\u001b[0m\u001b[0;34m)\u001b[0m\u001b[0;34m\u001b[0m\u001b[0;34m\u001b[0m\u001b[0m\n\u001b[1;32m     33\u001b[0m \u001b[0;34m\u001b[0m\u001b[0m\n\u001b[0;32m---> 34\u001b[0;31m         \u001b[0;32mfor\u001b[0m \u001b[0mbatch_number\u001b[0m\u001b[0;34m,\u001b[0m \u001b[0;34m(\u001b[0m\u001b[0mx\u001b[0m\u001b[0;34m,\u001b[0m \u001b[0m_\u001b[0m\u001b[0;34m)\u001b[0m \u001b[0;32min\u001b[0m \u001b[0menumerate\u001b[0m\u001b[0;34m(\u001b[0m\u001b[0mtrain_loader\u001b[0m\u001b[0;34m)\u001b[0m\u001b[0;34m:\u001b[0m\u001b[0;34m\u001b[0m\u001b[0;34m\u001b[0m\u001b[0m\n\u001b[0m\u001b[1;32m     35\u001b[0m             \u001b[0mx\u001b[0m \u001b[0;34m=\u001b[0m \u001b[0mx\u001b[0m\u001b[0;34m.\u001b[0m\u001b[0mview\u001b[0m\u001b[0;34m(\u001b[0m\u001b[0mbatch_size\u001b[0m\u001b[0;34m,\u001b[0m \u001b[0mx_dim\u001b[0m\u001b[0;34m)\u001b[0m\u001b[0;34m\u001b[0m\u001b[0;34m\u001b[0m\u001b[0m\n\u001b[1;32m     36\u001b[0m             \u001b[0mx\u001b[0m \u001b[0;34m=\u001b[0m \u001b[0mx\u001b[0m\u001b[0;34m.\u001b[0m\u001b[0mto\u001b[0m\u001b[0;34m(\u001b[0m\u001b[0mDEVICE\u001b[0m\u001b[0;34m)\u001b[0m\u001b[0;34m\u001b[0m\u001b[0;34m\u001b[0m\u001b[0m\n",
            "\u001b[0;32m/usr/local/lib/python3.10/dist-packages/torch/utils/data/dataloader.py\u001b[0m in \u001b[0;36m__next__\u001b[0;34m(self)\u001b[0m\n\u001b[1;32m    699\u001b[0m                 \u001b[0;31m# TODO(https://github.com/pytorch/pytorch/issues/76750)\u001b[0m\u001b[0;34m\u001b[0m\u001b[0;34m\u001b[0m\u001b[0m\n\u001b[1;32m    700\u001b[0m                 \u001b[0mself\u001b[0m\u001b[0;34m.\u001b[0m\u001b[0m_reset\u001b[0m\u001b[0;34m(\u001b[0m\u001b[0;34m)\u001b[0m  \u001b[0;31m# type: ignore[call-arg]\u001b[0m\u001b[0;34m\u001b[0m\u001b[0;34m\u001b[0m\u001b[0m\n\u001b[0;32m--> 701\u001b[0;31m             \u001b[0mdata\u001b[0m \u001b[0;34m=\u001b[0m \u001b[0mself\u001b[0m\u001b[0;34m.\u001b[0m\u001b[0m_next_data\u001b[0m\u001b[0;34m(\u001b[0m\u001b[0;34m)\u001b[0m\u001b[0;34m\u001b[0m\u001b[0;34m\u001b[0m\u001b[0m\n\u001b[0m\u001b[1;32m    702\u001b[0m             \u001b[0mself\u001b[0m\u001b[0;34m.\u001b[0m\u001b[0m_num_yielded\u001b[0m \u001b[0;34m+=\u001b[0m \u001b[0;36m1\u001b[0m\u001b[0;34m\u001b[0m\u001b[0;34m\u001b[0m\u001b[0m\n\u001b[1;32m    703\u001b[0m             if (\n",
            "\u001b[0;32m/usr/local/lib/python3.10/dist-packages/torch/utils/data/dataloader.py\u001b[0m in \u001b[0;36m_next_data\u001b[0;34m(self)\u001b[0m\n\u001b[1;32m   1446\u001b[0m \u001b[0;34m\u001b[0m\u001b[0m\n\u001b[1;32m   1447\u001b[0m             \u001b[0;32massert\u001b[0m \u001b[0;32mnot\u001b[0m \u001b[0mself\u001b[0m\u001b[0;34m.\u001b[0m\u001b[0m_shutdown\u001b[0m \u001b[0;32mand\u001b[0m \u001b[0mself\u001b[0m\u001b[0;34m.\u001b[0m\u001b[0m_tasks_outstanding\u001b[0m \u001b[0;34m>\u001b[0m \u001b[0;36m0\u001b[0m\u001b[0;34m\u001b[0m\u001b[0;34m\u001b[0m\u001b[0m\n\u001b[0;32m-> 1448\u001b[0;31m             \u001b[0midx\u001b[0m\u001b[0;34m,\u001b[0m \u001b[0mdata\u001b[0m \u001b[0;34m=\u001b[0m \u001b[0mself\u001b[0m\u001b[0;34m.\u001b[0m\u001b[0m_get_data\u001b[0m\u001b[0;34m(\u001b[0m\u001b[0;34m)\u001b[0m\u001b[0;34m\u001b[0m\u001b[0;34m\u001b[0m\u001b[0m\n\u001b[0m\u001b[1;32m   1449\u001b[0m             \u001b[0mself\u001b[0m\u001b[0;34m.\u001b[0m\u001b[0m_tasks_outstanding\u001b[0m \u001b[0;34m-=\u001b[0m \u001b[0;36m1\u001b[0m\u001b[0;34m\u001b[0m\u001b[0;34m\u001b[0m\u001b[0m\n\u001b[1;32m   1450\u001b[0m             \u001b[0;32mif\u001b[0m \u001b[0mself\u001b[0m\u001b[0;34m.\u001b[0m\u001b[0m_dataset_kind\u001b[0m \u001b[0;34m==\u001b[0m \u001b[0m_DatasetKind\u001b[0m\u001b[0;34m.\u001b[0m\u001b[0mIterable\u001b[0m\u001b[0;34m:\u001b[0m\u001b[0;34m\u001b[0m\u001b[0;34m\u001b[0m\u001b[0m\n",
            "\u001b[0;32m/usr/local/lib/python3.10/dist-packages/torch/utils/data/dataloader.py\u001b[0m in \u001b[0;36m_get_data\u001b[0;34m(self)\u001b[0m\n\u001b[1;32m   1400\u001b[0m         \u001b[0;32melif\u001b[0m \u001b[0mself\u001b[0m\u001b[0;34m.\u001b[0m\u001b[0m_pin_memory\u001b[0m\u001b[0;34m:\u001b[0m\u001b[0;34m\u001b[0m\u001b[0;34m\u001b[0m\u001b[0m\n\u001b[1;32m   1401\u001b[0m             \u001b[0;32mwhile\u001b[0m \u001b[0mself\u001b[0m\u001b[0;34m.\u001b[0m\u001b[0m_pin_memory_thread\u001b[0m\u001b[0;34m.\u001b[0m\u001b[0mis_alive\u001b[0m\u001b[0;34m(\u001b[0m\u001b[0;34m)\u001b[0m\u001b[0;34m:\u001b[0m\u001b[0;34m\u001b[0m\u001b[0;34m\u001b[0m\u001b[0m\n\u001b[0;32m-> 1402\u001b[0;31m                 \u001b[0msuccess\u001b[0m\u001b[0;34m,\u001b[0m \u001b[0mdata\u001b[0m \u001b[0;34m=\u001b[0m \u001b[0mself\u001b[0m\u001b[0;34m.\u001b[0m\u001b[0m_try_get_data\u001b[0m\u001b[0;34m(\u001b[0m\u001b[0;34m)\u001b[0m\u001b[0;34m\u001b[0m\u001b[0;34m\u001b[0m\u001b[0m\n\u001b[0m\u001b[1;32m   1403\u001b[0m                 \u001b[0;32mif\u001b[0m \u001b[0msuccess\u001b[0m\u001b[0;34m:\u001b[0m\u001b[0;34m\u001b[0m\u001b[0;34m\u001b[0m\u001b[0m\n\u001b[1;32m   1404\u001b[0m                     \u001b[0;32mreturn\u001b[0m \u001b[0mdata\u001b[0m\u001b[0;34m\u001b[0m\u001b[0;34m\u001b[0m\u001b[0m\n",
            "\u001b[0;32m/usr/local/lib/python3.10/dist-packages/torch/utils/data/dataloader.py\u001b[0m in \u001b[0;36m_try_get_data\u001b[0;34m(self, timeout)\u001b[0m\n\u001b[1;32m   1241\u001b[0m         \u001b[0;31m#   (bool: whether successfully get data, any: data if successful else None)\u001b[0m\u001b[0;34m\u001b[0m\u001b[0;34m\u001b[0m\u001b[0m\n\u001b[1;32m   1242\u001b[0m         \u001b[0;32mtry\u001b[0m\u001b[0;34m:\u001b[0m\u001b[0;34m\u001b[0m\u001b[0;34m\u001b[0m\u001b[0m\n\u001b[0;32m-> 1243\u001b[0;31m             \u001b[0mdata\u001b[0m \u001b[0;34m=\u001b[0m \u001b[0mself\u001b[0m\u001b[0;34m.\u001b[0m\u001b[0m_data_queue\u001b[0m\u001b[0;34m.\u001b[0m\u001b[0mget\u001b[0m\u001b[0;34m(\u001b[0m\u001b[0mtimeout\u001b[0m\u001b[0;34m=\u001b[0m\u001b[0mtimeout\u001b[0m\u001b[0;34m)\u001b[0m\u001b[0;34m\u001b[0m\u001b[0;34m\u001b[0m\u001b[0m\n\u001b[0m\u001b[1;32m   1244\u001b[0m             \u001b[0;32mreturn\u001b[0m \u001b[0;34m(\u001b[0m\u001b[0;32mTrue\u001b[0m\u001b[0;34m,\u001b[0m \u001b[0mdata\u001b[0m\u001b[0;34m)\u001b[0m\u001b[0;34m\u001b[0m\u001b[0;34m\u001b[0m\u001b[0m\n\u001b[1;32m   1245\u001b[0m         \u001b[0;32mexcept\u001b[0m \u001b[0mException\u001b[0m \u001b[0;32mas\u001b[0m \u001b[0me\u001b[0m\u001b[0;34m:\u001b[0m\u001b[0;34m\u001b[0m\u001b[0;34m\u001b[0m\u001b[0m\n",
            "\u001b[0;32m/usr/lib/python3.10/queue.py\u001b[0m in \u001b[0;36mget\u001b[0;34m(self, block, timeout)\u001b[0m\n\u001b[1;32m    178\u001b[0m                     \u001b[0;32mif\u001b[0m \u001b[0mremaining\u001b[0m \u001b[0;34m<=\u001b[0m \u001b[0;36m0.0\u001b[0m\u001b[0;34m:\u001b[0m\u001b[0;34m\u001b[0m\u001b[0;34m\u001b[0m\u001b[0m\n\u001b[1;32m    179\u001b[0m                         \u001b[0;32mraise\u001b[0m \u001b[0mEmpty\u001b[0m\u001b[0;34m\u001b[0m\u001b[0;34m\u001b[0m\u001b[0m\n\u001b[0;32m--> 180\u001b[0;31m                     \u001b[0mself\u001b[0m\u001b[0;34m.\u001b[0m\u001b[0mnot_empty\u001b[0m\u001b[0;34m.\u001b[0m\u001b[0mwait\u001b[0m\u001b[0;34m(\u001b[0m\u001b[0mremaining\u001b[0m\u001b[0;34m)\u001b[0m\u001b[0;34m\u001b[0m\u001b[0;34m\u001b[0m\u001b[0m\n\u001b[0m\u001b[1;32m    181\u001b[0m             \u001b[0mitem\u001b[0m \u001b[0;34m=\u001b[0m \u001b[0mself\u001b[0m\u001b[0;34m.\u001b[0m\u001b[0m_get\u001b[0m\u001b[0;34m(\u001b[0m\u001b[0;34m)\u001b[0m\u001b[0;34m\u001b[0m\u001b[0;34m\u001b[0m\u001b[0m\n\u001b[1;32m    182\u001b[0m             \u001b[0mself\u001b[0m\u001b[0;34m.\u001b[0m\u001b[0mnot_full\u001b[0m\u001b[0;34m.\u001b[0m\u001b[0mnotify\u001b[0m\u001b[0;34m(\u001b[0m\u001b[0;34m)\u001b[0m\u001b[0;34m\u001b[0m\u001b[0;34m\u001b[0m\u001b[0m\n",
            "\u001b[0;32m/usr/lib/python3.10/threading.py\u001b[0m in \u001b[0;36mwait\u001b[0;34m(self, timeout)\u001b[0m\n\u001b[1;32m    322\u001b[0m             \u001b[0;32melse\u001b[0m\u001b[0;34m:\u001b[0m\u001b[0;34m\u001b[0m\u001b[0;34m\u001b[0m\u001b[0m\n\u001b[1;32m    323\u001b[0m                 \u001b[0;32mif\u001b[0m \u001b[0mtimeout\u001b[0m \u001b[0;34m>\u001b[0m \u001b[0;36m0\u001b[0m\u001b[0;34m:\u001b[0m\u001b[0;34m\u001b[0m\u001b[0;34m\u001b[0m\u001b[0m\n\u001b[0;32m--> 324\u001b[0;31m                     \u001b[0mgotit\u001b[0m \u001b[0;34m=\u001b[0m \u001b[0mwaiter\u001b[0m\u001b[0;34m.\u001b[0m\u001b[0macquire\u001b[0m\u001b[0;34m(\u001b[0m\u001b[0;32mTrue\u001b[0m\u001b[0;34m,\u001b[0m \u001b[0mtimeout\u001b[0m\u001b[0;34m)\u001b[0m\u001b[0;34m\u001b[0m\u001b[0;34m\u001b[0m\u001b[0m\n\u001b[0m\u001b[1;32m    325\u001b[0m                 \u001b[0;32melse\u001b[0m\u001b[0;34m:\u001b[0m\u001b[0;34m\u001b[0m\u001b[0;34m\u001b[0m\u001b[0m\n\u001b[1;32m    326\u001b[0m                     \u001b[0mgotit\u001b[0m \u001b[0;34m=\u001b[0m \u001b[0mwaiter\u001b[0m\u001b[0;34m.\u001b[0m\u001b[0macquire\u001b[0m\u001b[0;34m(\u001b[0m\u001b[0;32mFalse\u001b[0m\u001b[0;34m)\u001b[0m\u001b[0;34m\u001b[0m\u001b[0;34m\u001b[0m\u001b[0m\n",
            "\u001b[0;31mKeyboardInterrupt\u001b[0m: "
          ]
        }
      ],
      "source": [
        "def train_model(model, epochs, train_loader, test_loader):\n",
        "    model.train()\n",
        "    Test_Risk = []\n",
        "\n",
        "    for epoch in range(epochs):\n",
        "\n",
        "\n",
        "        for batch_number, (x, _) in enumerate(train_loader):\n",
        "            x = x.view(batch_size, x_dim)\n",
        "            x = x.to(DEVICE)\n",
        "\n",
        "            optimizer.zero_grad()\n",
        "            x_hat, mean, log_var = model(x)\n",
        "            mini_batch_loss = loss_function(x, x_hat, mean, log_var)\n",
        "            mini_batch_loss.backward()\n",
        "            optimizer.step()\n",
        "\n",
        "        print(\"\\tEpoch\", epoch + 1, \"complete!\")\n",
        "        test_loss = 0\n",
        "        for test_batch_number, (t, _) in enumerate(test_loader):\n",
        "                t = t.view(test_batch_size, x_dim)\n",
        "                t = t.to(DEVICE)\n",
        "                t_hat, mean, log_var = model(t)\n",
        "                mini_batch_loss = loss_function(t, t_hat, mean, log_var)\n",
        "                test_loss += mini_batch_loss.item()\n",
        "\n",
        "        Test_Risk.append(test_loss/(test_size))\n",
        "\n",
        "    return {\n",
        "    \"Test_Risk\":             Test_Risk,\n",
        "    }\n",
        "\n",
        "# Model parameters (here for posterity)\n",
        "x_dim  = 784\n",
        "hidden_dim = 1024\n",
        "latent_dim = 8\n",
        "input_dim = output_dim = x_dim\n",
        "\n",
        "# Training parameters\n",
        "lr = 1e-3\n",
        "train_size = 60000\n",
        "batch_size = 10**2\n",
        "test_batch_size = 10**4\n",
        "epochs = 2\n",
        "\n",
        "# Variable Parameters\n",
        "from itertools import product\n",
        "hidden_dims = 2 ** np.arange(7, 11)\n",
        "latent_dims = 2 ** np.arange(0, 8)\n",
        "param_iterable = product(hidden_dims, latent_dims)\n",
        "\n",
        "# Cache\n",
        "data_cache = {}\n",
        "\n",
        "for hidden_dim, latent_dim in param_iterable:\n",
        "    encoder = Encoder(input_dim, hidden_dim, latent_dim)\n",
        "    decoder = Decoder(latent_dim, hidden_dim, output_dim)\n",
        "    model = Model(encoder, decoder).to(DEVICE)\n",
        "    optimizer = Adam(model.parameters(), lr=lr, weight_decay=0.001)\n",
        "    results = train_model(model, epochs, train_loader, test_loader)\n",
        "\n",
        "    data_cache[f'{hidden_dim}|{latent_dim}'] = results\n",
        "    data_cache[f'{hidden_dim}|{latent_dim}']['total_parameters'] = \\\n",
        "        parameter_count(encoder)[1] + parameter_count(decoder)[1]\n",
        "    print(results['Risk'][-1])"
      ]
    }
  ],
  "metadata": {
    "accelerator": "GPU",
    "colab": {
      "gpuType": "T4",
      "provenance": [],
      "toc_visible": true
    },
    "kernelspec": {
      "display_name": "Python 3",
      "name": "python3"
    },
    "language_info": {
      "codemirror_mode": {
        "name": "ipython",
        "version": 3
      },
      "file_extension": ".py",
      "mimetype": "text/x-python",
      "name": "python",
      "nbconvert_exporter": "python",
      "pygments_lexer": "ipython3",
      "version": "3.12.6"
    }
  },
  "nbformat": 4,
  "nbformat_minor": 0
}